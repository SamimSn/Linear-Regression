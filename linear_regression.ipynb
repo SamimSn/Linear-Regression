{
 "cells": [
  {
   "cell_type": "markdown",
   "metadata": {},
   "source": [
    "# Imports"
   ]
  },
  {
   "cell_type": "code",
   "execution_count": 147,
   "metadata": {},
   "outputs": [],
   "source": [
    "import numpy as np\n",
    "import matplotlib.pyplot as plt\n",
    "import pandas as pd"
   ]
  },
  {
   "cell_type": "markdown",
   "metadata": {},
   "source": [
    "# Create Data Set"
   ]
  },
  {
   "cell_type": "code",
   "execution_count": 148,
   "metadata": {},
   "outputs": [
    {
     "name": "stdout",
     "output_type": "stream",
     "text": [
      "(300,)\n",
      "(300,)\n"
     ]
    }
   ],
   "source": [
    "data = pd.read_csv(\"practice_data.csv\")\n",
    "x = np.array(data[\"x\"])\n",
    "y = np.array(data[\"y\"])\n",
    "\n",
    "print(x.shape)\n",
    "print(y.shape)"
   ]
  },
  {
   "cell_type": "markdown",
   "metadata": {},
   "source": [
    "# Plot Data"
   ]
  },
  {
   "cell_type": "code",
   "execution_count": 149,
   "metadata": {},
   "outputs": [
    {
     "data": {
      "image/png": "[encoded data removed]",
      "text/plain": [
       "<Figure size 400x400 with 1 Axes>"
      ]
     },
     "metadata": {},
     "output_type": "display_data"
    }
   ],
   "source": [
    "fig, axs = plt.subplots(1, 1, figsize=(4, 4))\n",
    "\n",
    "axs.set_title(\"Data\")\n",
    "axs.set_xlabel(\"X\")\n",
    "axs.set_ylabel(\"Y\")\n",
    "axs.plot(x, y, 'o')\n",
    "\n",
    "plt.tight_layout()\n",
    "plt.show()"
   ]
  },
  {
   "cell_type": "markdown",
   "metadata": {},
   "source": [
    "# some rows of data"
   ]
  },
  {
   "cell_type": "code",
   "execution_count": 150,
   "metadata": {},
   "outputs": [
    {
     "data": {
      "text/html": [
       "<div>\n",
       "<style scoped>\n",
       "    .dataframe tbody tr th:only-of-type {\n",
       "        vertical-align: middle;\n",
       "    }\n",
       "\n",
       "    .dataframe tbody tr th {\n",
       "        vertical-align: top;\n",
       "    }\n",
       "\n",
       "    .dataframe thead th {\n",
       "        text-align: right;\n",
       "    }\n",
       "</style>\n",
       "<table border=\"1\" class=\"dataframe\">\n",
       "  <thead>\n",
       "    <tr style=\"text-align: right;\">\n",
       "      <th></th>\n",
       "      <th>x</th>\n",
       "      <th>y</th>\n",
       "    </tr>\n",
       "  </thead>\n",
       "  <tbody>\n",
       "    <tr>\n",
       "      <th>0</th>\n",
       "      <td>77</td>\n",
       "      <td>79.775152</td>\n",
       "    </tr>\n",
       "    <tr>\n",
       "      <th>1</th>\n",
       "      <td>21</td>\n",
       "      <td>23.177279</td>\n",
       "    </tr>\n",
       "    <tr>\n",
       "      <th>2</th>\n",
       "      <td>22</td>\n",
       "      <td>25.609262</td>\n",
       "    </tr>\n",
       "    <tr>\n",
       "      <th>3</th>\n",
       "      <td>20</td>\n",
       "      <td>17.857388</td>\n",
       "    </tr>\n",
       "    <tr>\n",
       "      <th>4</th>\n",
       "      <td>36</td>\n",
       "      <td>41.849864</td>\n",
       "    </tr>\n",
       "    <tr>\n",
       "      <th>5</th>\n",
       "      <td>15</td>\n",
       "      <td>9.805235</td>\n",
       "    </tr>\n",
       "    <tr>\n",
       "      <th>6</th>\n",
       "      <td>62</td>\n",
       "      <td>58.874659</td>\n",
       "    </tr>\n",
       "    <tr>\n",
       "      <th>7</th>\n",
       "      <td>95</td>\n",
       "      <td>97.617937</td>\n",
       "    </tr>\n",
       "    <tr>\n",
       "      <th>8</th>\n",
       "      <td>20</td>\n",
       "      <td>18.395127</td>\n",
       "    </tr>\n",
       "    <tr>\n",
       "      <th>9</th>\n",
       "      <td>5</td>\n",
       "      <td>8.746748</td>\n",
       "    </tr>\n",
       "  </tbody>\n",
       "</table>\n",
       "</div>"
      ],
      "text/plain": [
       "    x          y\n",
       "0  77  79.775152\n",
       "1  21  23.177279\n",
       "2  22  25.609262\n",
       "3  20  17.857388\n",
       "4  36  41.849864\n",
       "5  15   9.805235\n",
       "6  62  58.874659\n",
       "7  95  97.617937\n",
       "8  20  18.395127\n",
       "9   5   8.746748"
      ]
     },
     "execution_count": 150,
     "metadata": {},
     "output_type": "execute_result"
    }
   ],
   "source": [
    "data.head(10)"
   ]
  },
  {
   "cell_type": "markdown",
   "metadata": {},
   "source": [
    "# Normalize Data"
   ]
  },
  {
   "cell_type": "code",
   "execution_count": 151,
   "metadata": {},
   "outputs": [],
   "source": [
    "x = np.array([(i / max(x)) for i in x])\n",
    "y = np.array([(i / max(y)) for i in y])"
   ]
  },
  {
   "cell_type": "markdown",
   "metadata": {},
   "source": [
    "# Regression Algorithm (manual)"
   ]
  },
  {
   "cell_type": "markdown",
   "metadata": {},
   "source": [
    "\n",
    "$${\\color{orange}f_{w,b}(x) = wx +b}$$\n",
    "$${\\color{orange}J_{w,b}(x) = (1/2m)Σ_{i=1}^{m} (f_{w,b}(x^{ith})-y^{ith})^2}$$\n",
    "$${\\color{orange}repeat:}\\\\$$\n",
    "$${\\color{orange}w = w - alpha\\ d/dw(J)}$$\n",
    "$${\\color{orange}b = b - alpha\\ d/db(J)}$$\n",
    "$${\\color{orange}d/dw(J) = (1/m)Σ_{i=1}^{m} (f_{w,b}(x^{ith})-y^{ith})(x^{ith})}$$\n",
    "$${\\color{orange}d/db(J) = (1/m)Σ_{i=1}^{m} (f_{w,b}(x^{ith})-y^{ith})}$$"
   ]
  },
  {
   "cell_type": "markdown",
   "metadata": {},
   "source": [
    "# F"
   ]
  },
  {
   "cell_type": "code",
   "execution_count": 152,
   "metadata": {},
   "outputs": [],
   "source": [
    "def F(x, w, b):\n",
    "    return x * w + b"
   ]
  },
  {
   "cell_type": "markdown",
   "metadata": {},
   "source": [
    "# Cost Function"
   ]
  },
  {
   "cell_type": "code",
   "execution_count": 153,
   "metadata": {},
   "outputs": [],
   "source": [
    "def cost(x, y, w, b):\n",
    "    m = x.shape[0]\n",
    "    return np.sum((F(x, w, b) - y) ** 2) / (2*m)   "
   ]
  },
  {
   "cell_type": "markdown",
   "metadata": {},
   "source": [
    "# Compute Gradient"
   ]
  },
  {
   "cell_type": "code",
   "execution_count": 154,
   "metadata": {},
   "outputs": [],
   "source": [
    "def gradient(x, y, w, b):\n",
    "    m = x.shape[0]\n",
    "\n",
    "    f = F(x, w, b) - y\n",
    "    d_dw = np.sum(f * x) / m\n",
    "    d_db = np.sum(f) / m\n",
    "\n",
    "    return d_dw, d_db"
   ]
  },
  {
   "cell_type": "markdown",
   "metadata": {},
   "source": [
    "# Gradient Descent"
   ]
  },
  {
   "cell_type": "code",
   "execution_count": 155,
   "metadata": {},
   "outputs": [],
   "source": [
    "def gradient_descent(\n",
    "    x, y, w_in, b_in, iterations, a, cost_function=None, compute_gradient=None\n",
    "):\n",
    "    cost_history = {}\n",
    "\n",
    "    w, b = w_in, b_in\n",
    "    for _ in range(iterations+1):\n",
    "        d_dw, d_db = compute_gradient(x, y, w, b)\n",
    "        w -= a * d_dw\n",
    "        b -= a * d_db\n",
    "\n",
    "        # reporting\n",
    "        cost = cost_function(x,y,w,b)\n",
    "        if _ % 10_000 == 0:            \n",
    "            print(f\"iteration: {_}\\t|cost: {cost}\")\n",
    "        cost_history[_] = cost\n",
    "        \n",
    "    return w, b, cost_history"
   ]
  },
  {
   "cell_type": "markdown",
   "metadata": {},
   "source": [
    "# Running Gradient Descent"
   ]
  },
  {
   "cell_type": "code",
   "execution_count": 156,
   "metadata": {},
   "outputs": [
    {
     "name": "stdout",
     "output_type": "stream",
     "text": [
      "iteration: 0\t|cost: 0.155320382381595\n",
      "iteration: 10000\t|cost: 0.030679859069411335\n",
      "iteration: 20000\t|cost: 0.018817853964467043\n",
      "iteration: 30000\t|cost: 0.015983389836490804\n",
      "iteration: 40000\t|cost: 0.014078612635780719\n",
      "iteration: 50000\t|cost: 0.012446752725863834\n",
      "iteration: 60000\t|cost: 0.011012846159249922\n",
      "iteration: 70000\t|cost: 0.00975001319827304\n",
      "iteration: 80000\t|cost: 0.008637620269038635\n",
      "iteration: 90000\t|cost: 0.007657728220826057\n",
      "iteration: 100000\t|cost: 0.00679455307455431\n",
      "iteration: 110000\t|cost: 0.00603419234149011\n",
      "iteration: 120000\t|cost: 0.0053643995955618565\n",
      "iteration: 130000\t|cost: 0.004774387114021495\n",
      "iteration: 140000\t|cost: 0.004254652120588635\n",
      "iteration: 150000\t|cost: 0.003796823732457394\n",
      "iteration: 160000\t|cost: 0.0033935281383033226\n",
      "iteration: 170000\t|cost: 0.0030382698352352487\n",
      "iteration: 180000\t|cost: 0.0027253270118363436\n",
      "iteration: 190000\t|cost: 0.0024496593923294405\n",
      "iteration: 200000\t|cost: 0.002206827057594171\n",
      "iteration: 210000\t|cost: 0.0019929189355648858\n",
      "iteration: 220000\t|cost: 0.0018044898092709927\n",
      "iteration: 230000\t|cost: 0.0016385048279666044\n",
      "iteration: 240000\t|cost: 0.0014922906276436112\n",
      "iteration: 250000\t|cost: 0.0013634922736715052\n",
      "iteration: 260000\t|cost: 0.0012500353320798864\n",
      "iteration: 270000\t|cost: 0.0011500924586009744\n",
      "iteration: 280000\t|cost: 0.001062053967353903\n",
      "iteration: 290000\t|cost: 0.0009845019051482123\n",
      "iteration: 300000\t|cost: 0.000916187213844882\n",
      "iteration: 310000\t|cost: 0.0008560096129514857\n",
      "iteration: 320000\t|cost: 0.0008029998784391398\n",
      "iteration: 330000\t|cost: 0.0007563042323623378\n",
      "iteration: 340000\t|cost: 0.0007151705918604577\n",
      "iteration: 350000\t|cost: 0.0006789364560664088\n",
      "iteration: 360000\t|cost: 0.0006470182358281254\n",
      "iteration: 370000\t|cost: 0.0006189018543868538\n",
      "iteration: 380000\t|cost: 0.0005941344676262814\n",
      "iteration: 390000\t|cost: 0.000572317170538171\n",
      "iteration: 400000\t|cost: 0.0005530985724344159\n",
      "iteration: 410000\t|cost: 0.0005361691374277835\n",
      "iteration: 420000\t|cost: 0.000521256199028422\n",
      "iteration: 430000\t|cost: 0.0005081195685610408\n",
      "iteration: 440000\t|cost: 0.000496547666671892\n",
      "iteration: 450000\t|cost: 0.0004863541156190089\n",
      "iteration: 460000\t|cost: 0.0004773747374611908\n",
      "iteration: 470000\t|cost: 0.0004694649097983401\n",
      "iteration: 480000\t|cost: 0.00046249723647434296\n",
      "iteration: 490000\t|cost: 0.0004563594957271159\n",
      "iteration: 500000\t|cost: 0.00045095283273812847\n",
      "iteration: 510000\t|cost: 0.0004461901674708429\n",
      "iteration: 520000\t|cost: 0.0004419947921544134\n",
      "iteration: 530000\t|cost: 0.0004382991358237898\n",
      "iteration: 540000\t|cost: 0.00043504367601770235\n",
      "iteration: 550000\t|cost: 0.0004321759801063561\n",
      "iteration: 560000\t|cost: 0.00042964986080838\n",
      "iteration: 570000\t|cost: 0.0004274246322957115\n",
      "iteration: 580000\t|cost: 0.0004254644549052018\n",
      "iteration: 590000\t|cost: 0.00042373775790290557\n",
      "iteration: 600000\t|cost: 0.00042221673100392525\n",
      "iteration: 610000\t|cost: 0.0004208768764583126\n",
      "iteration: 620000\t|cost: 0.0004196966144888505\n",
      "iteration: 630000\t|cost: 0.0004186569357258698\n",
      "iteration: 640000\t|cost: 0.00041774109504120473\n",
      "iteration: 650000\t|cost: 0.000416934341850164\n",
      "iteration: 660000\t|cost: 0.0004162236825377444\n",
      "iteration: 670000\t|cost: 0.0004155976711826789\n",
      "iteration: 680000\t|cost: 0.0004150462252087369\n",
      "iteration: 690000\t|cost: 0.000414560462994184\n",
      "iteration: 700000\t|cost: 0.0004141325608238199\n",
      "iteration: 710000\t|cost: 0.0004137556268797705\n",
      "iteration: 720000\t|cost: 0.0004134235902414517\n",
      "iteration: 730000\t|cost: 0.00041313110310696476\n",
      "iteration: 740000\t|cost: 0.0004128734546610771\n",
      "iteration: 750000\t|cost: 0.000412646495202554\n",
      "iteration: 760000\t|cost: 0.0004124465693088179\n",
      "iteration: 770000\t|cost: 0.0004122704569615038\n",
      "iteration: 780000\t|cost: 0.00041211532168464394\n",
      "iteration: 790000\t|cost: 0.00041197866486021345\n",
      "iteration: 800000\t|cost: 0.00041185828548524935\n",
      "iteration: 810000\t|cost: 0.0004117522447223594\n",
      "iteration: 820000\t|cost: 0.00041165883467269394\n",
      "iteration: 830000\t|cost: 0.00041157655086841846\n",
      "iteration: 840000\t|cost: 0.0004115040680416775\n",
      "iteration: 850000\t|cost: 0.00041144021877973993\n",
      "iteration: 860000\t|cost: 0.00041138397472258376\n",
      "iteration: 870000\t|cost: 0.0004113344300000721\n",
      "iteration: 880000\t|cost: 0.0004112907866419475\n",
      "iteration: 890000\t|cost: 0.00041125234172568304\n",
      "iteration: 900000\t|cost: 0.000411218476055163\n",
      "iteration: 910000\t|cost: 0.00041118864418787746\n",
      "iteration: 920000\t|cost: 0.0004111623656499942\n",
      "iteration: 930000\t|cost: 0.00041113921719781473\n",
      "iteration: 940000\t|cost: 0.00041111882600098764\n",
      "iteration: 950000\t|cost: 0.0004111008636376807\n",
      "iteration: 960000\t|cost: 0.0004110850408049989\n",
      "iteration: 970000\t|cost: 0.000411071102659456\n",
      "iteration: 980000\t|cost: 0.00041105882471244813\n",
      "iteration: 990000\t|cost: 0.0004110480092146282\n",
      "iteration: 1000000\t|cost: 0.0004110384819709445\n",
      "\n",
      "Optimum Result -->\n",
      "w: 0.9593095215382357\n",
      "b: -0.0036613292494891937\n"
     ]
    }
   ],
   "source": [
    "w_in = 0\n",
    "b_in = 0\n",
    "iterations = 1_000_000\n",
    "alpha = 0.0001\n",
    "w, b, cost_history = gradient_descent(\n",
    "    x,\n",
    "    y,\n",
    "    w_in,\n",
    "    b_in,\n",
    "    iterations,\n",
    "    alpha,\n",
    "    cost_function=cost,\n",
    "    compute_gradient=gradient,\n",
    ")\n",
    "\n",
    "print(f\"\\nOptimum Result -->\\nw: {w}\\nb: {b}\")"
   ]
  },
  {
   "cell_type": "markdown",
   "metadata": {},
   "source": [
    "### Plot Output"
   ]
  },
  {
   "cell_type": "code",
   "execution_count": 157,
   "metadata": {},
   "outputs": [
    {
     "data": {
      "text/plain": [
       "Text(0.5, 1.0, 'cost per iteration')"
      ]
     },
     "execution_count": 157,
     "metadata": {},
     "output_type": "execute_result"
    },
    {
     "data": {
      "image/png": "[encoded data removed]",
      "text/plain": [
       "<Figure size 1200x400 with 2 Axes>"
      ]
     },
     "metadata": {},
     "output_type": "display_data"
    }
   ],
   "source": [
    "fig, (ex1, ex2) = plt.subplots(1,2, figsize=(12,4))\n",
    "\n",
    "ex1.plot(x, y, 'o')\n",
    "y_hat = w * x + b\n",
    "ex1.plot(x, y_hat)\n",
    "ex1.set_xlabel(\"X\")\n",
    "ex1.set_ylabel(\"Y\")\n",
    "ex1.set_title(\"Model\")\n",
    "\n",
    "ex2.plot(list(cost_history.keys()), list(cost_history.values()))\n",
    "ex2.set_xlabel(\"iteration\")\n",
    "ex2.set_ylabel(\"cost\")\n",
    "ex2.set_title(\"cost per iteration\")"
   ]
  },
  {
   "cell_type": "markdown",
   "metadata": {},
   "source": [
    "# Accuracy"
   ]
  },
  {
   "cell_type": "code",
   "execution_count": 158,
   "metadata": {},
   "outputs": [
    {
     "name": "stdout",
     "output_type": "stream",
     "text": [
      "0.77 -> model -> 0.74\t|\tactual output -> 0.7555049130573185\n",
      "0.89 -> model -> 0.85\t|\tactual output -> 0.8724070435842164\n",
      "0.91 -> model -> 0.87\t|\tactual output -> 0.9002723205759158\n",
      "0.13 -> model -> 0.12\t|\tactual output -> 0.13311378135644245\n",
      "0.68 -> model -> 0.65\t|\tactual output -> 0.6664329030167697\n",
      "0.02 -> model -> 0.02\t|\tactual output -> -0.015464909870519112\n",
      "0.64 -> model -> 0.61\t|\tactual output -> 0.5950096620868067\n",
      "0.71 -> model -> 0.68\t|\tactual output -> 0.666181200417125\n",
      "0.42 -> model -> 0.4\t|\tactual output -> 0.369187384962403\n",
      "0.17 -> model -> 0.16\t|\tactual output -> 0.14074567089525267\n",
      "0.78 -> model -> 0.74\t|\tactual output -> 0.7424516128910059\n",
      "0.07 -> model -> 0.06\t|\tactual output -> 0.08790167850805702\n",
      "0.92 -> model -> 0.88\t|\tactual output -> 0.90343915361829\n",
      "0.16 -> model -> 0.15\t|\tactual output -> 0.1593721390633059\n",
      "0.19 -> model -> 0.18\t|\tactual output -> 0.20291699015087225\n",
      "\n",
      "\n",
      "***********************\n",
      "*** Accuracy 91.94% ***\n",
      "***********************\n"
     ]
    }
   ],
   "source": [
    "def accuracy(X, Y):\n",
    "    sum = 0\n",
    "    length = len(X)\n",
    "    for i in range(length):\n",
    "        model_output = round(F(X[i], w, b), 2)\n",
    "        actual_output = Y[i]\n",
    "        if i % 20 == 0:\n",
    "            print(f\"{X[i]} -> model -> {model_output}\\t|\\tactual output -> {actual_output}\")\n",
    "        sum += (1 - (abs(model_output - actual_output) / actual_output)) * 100\n",
    "    return sum/length\n",
    "\n",
    "accuracy_final = accuracy(x, y)\n",
    "print(f\"\\n\\n***********************\\n*** Accuracy {round(accuracy_final, 2)}% ***\\n***********************\")"
   ]
  }
 ],
 "metadata": {
  "kernelspec": {
   "display_name": "base",
   "language": "python",
   "name": "python3"
  },
  "language_info": {
   "codemirror_mode": {
    "name": "ipython",
    "version": 3
   },
   "file_extension": ".py",
   "mimetype": "text/x-python",
   "name": "python",
   "nbconvert_exporter": "python",
   "pygments_lexer": "ipython3",
   "version": "3.11.7"
  }
 },
 "nbformat": 4,
 "nbformat_minor": 2
}
