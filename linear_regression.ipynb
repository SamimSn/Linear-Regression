{
 "cells": [
  {
   "cell_type": "markdown",
   "metadata": {},
   "source": [
    "# Imports"
   ]
  },
  {
   "cell_type": "code",
   "execution_count": 53,
   "metadata": {},
   "outputs": [],
   "source": [
    "import numpy as np\n",
    "import matplotlib.pyplot as plt\n",
    "import pandas as pd"
   ]
  },
  {
   "cell_type": "markdown",
   "metadata": {},
   "source": [
    "# Create Data Set"
   ]
  },
  {
   "cell_type": "code",
   "execution_count": 54,
   "metadata": {},
   "outputs": [],
   "source": [
    "data = pd.read_csv(\"practice_data.csv\")\n",
    "x_column = data[\"x\"]\n",
    "y_column = data[\"y\"]\n",
    "\n",
    "x_array = x_column.to_numpy()\n",
    "y_array = np.round(y_column.to_numpy(), 2)\n"
   ]
  },
  {
   "cell_type": "markdown",
   "metadata": {},
   "source": [
    "# Normalizing Data"
   ]
  },
  {
   "cell_type": "code",
   "execution_count": 55,
   "metadata": {},
   "outputs": [],
   "source": [
    "def z_score(x,y):\n",
    "    mu_x = np.mean(x)\n",
    "    mu_y = np.mean(y)\n",
    "\n",
    "    sd_x = np.std(x)\n",
    "    sd_y = np.std(y)\n",
    "\n",
    "    x_norm = (x - mu_x) / sd_x\n",
    "    y_norm = (y - mu_y) / sd_y\n",
    "\n",
    "    return x_norm, y_norm"
   ]
  },
  {
   "cell_type": "markdown",
   "metadata": {},
   "source": [
    "# Normalize"
   ]
  },
  {
   "cell_type": "code",
   "execution_count": 56,
   "metadata": {},
   "outputs": [],
   "source": [
    "x_norm, y_norm = z_score(x_array, y_array)"
   ]
  },
  {
   "cell_type": "markdown",
   "metadata": {},
   "source": [
    "# Plot Data"
   ]
  },
  {
   "cell_type": "code",
   "execution_count": 57,
   "metadata": {},
   "outputs": [
    {
     "data": {
      "image/png": "[encoded data removed]",
      "text/plain": [
       "<Figure size 640x480 with 1 Axes>"
      ]
     },
     "metadata": {},
     "output_type": "display_data"
    }
   ],
   "source": [
    "plt.plot(x_norm, y_norm, 'o')\n",
    "plt.title(\"Data\")\n",
    "plt.xlabel(\"X\")\n",
    "plt.ylabel(\"Y\")\n",
    "plt.show()"
   ]
  },
  {
   "cell_type": "markdown",
   "metadata": {},
   "source": [
    "# some rows of data"
   ]
  },
  {
   "cell_type": "code",
   "execution_count": 58,
   "metadata": {},
   "outputs": [
    {
     "data": {
      "text/html": [
       "<div>\n",
       "<style scoped>\n",
       "    .dataframe tbody tr th:only-of-type {\n",
       "        vertical-align: middle;\n",
       "    }\n",
       "\n",
       "    .dataframe tbody tr th {\n",
       "        vertical-align: top;\n",
       "    }\n",
       "\n",
       "    .dataframe thead th {\n",
       "        text-align: right;\n",
       "    }\n",
       "</style>\n",
       "<table border=\"1\" class=\"dataframe\">\n",
       "  <thead>\n",
       "    <tr style=\"text-align: right;\">\n",
       "      <th></th>\n",
       "      <th>x</th>\n",
       "      <th>y</th>\n",
       "    </tr>\n",
       "  </thead>\n",
       "  <tbody>\n",
       "    <tr>\n",
       "      <th>0</th>\n",
       "      <td>77</td>\n",
       "      <td>79.775152</td>\n",
       "    </tr>\n",
       "    <tr>\n",
       "      <th>1</th>\n",
       "      <td>21</td>\n",
       "      <td>23.177279</td>\n",
       "    </tr>\n",
       "    <tr>\n",
       "      <th>2</th>\n",
       "      <td>22</td>\n",
       "      <td>25.609262</td>\n",
       "    </tr>\n",
       "    <tr>\n",
       "      <th>3</th>\n",
       "      <td>20</td>\n",
       "      <td>17.857388</td>\n",
       "    </tr>\n",
       "    <tr>\n",
       "      <th>4</th>\n",
       "      <td>36</td>\n",
       "      <td>41.849864</td>\n",
       "    </tr>\n",
       "    <tr>\n",
       "      <th>5</th>\n",
       "      <td>15</td>\n",
       "      <td>9.805235</td>\n",
       "    </tr>\n",
       "    <tr>\n",
       "      <th>6</th>\n",
       "      <td>62</td>\n",
       "      <td>58.874659</td>\n",
       "    </tr>\n",
       "    <tr>\n",
       "      <th>7</th>\n",
       "      <td>95</td>\n",
       "      <td>97.617937</td>\n",
       "    </tr>\n",
       "    <tr>\n",
       "      <th>8</th>\n",
       "      <td>20</td>\n",
       "      <td>18.395127</td>\n",
       "    </tr>\n",
       "    <tr>\n",
       "      <th>9</th>\n",
       "      <td>5</td>\n",
       "      <td>8.746748</td>\n",
       "    </tr>\n",
       "  </tbody>\n",
       "</table>\n",
       "</div>"
      ],
      "text/plain": [
       "    x          y\n",
       "0  77  79.775152\n",
       "1  21  23.177279\n",
       "2  22  25.609262\n",
       "3  20  17.857388\n",
       "4  36  41.849864\n",
       "5  15   9.805235\n",
       "6  62  58.874659\n",
       "7  95  97.617937\n",
       "8  20  18.395127\n",
       "9   5   8.746748"
      ]
     },
     "execution_count": 58,
     "metadata": {},
     "output_type": "execute_result"
    }
   ],
   "source": [
    "data.head(10)"
   ]
  },
  {
   "cell_type": "markdown",
   "metadata": {},
   "source": [
    "# Regression Algorithm (manual)"
   ]
  },
  {
   "cell_type": "markdown",
   "metadata": {},
   "source": [
    "\n",
    "$${\\color{orange}f_{w,b}(x) = wx +b}$$\n",
    "$${\\color{orange}J_{w,b}(x) = (1/2m)Σ_{i=1}^{m} (f_{w,b}(x^{ith})-y^{ith})^2}$$\n",
    "$${\\color{orange}repeat:}\\\\$$\n",
    "$${\\color{orange}w = w - alpha\\ d/dw(J)}\\\\$$\n",
    "$${\\color{orange}b = b - alpha\\ d/db(J)}\\\\$$\n",
    "$${\\color{orange} d/dw(J) = (1/m)Σ_{i=1}^{m} (f_{w,b}(x^{ith})-y^{ith})(x^{ith})}$$\n",
    "$${\\color{orange} d/db(J) = (1/m)Σ_{i=1}^{m} (f_{w,b}(x^{ith})-y^{ith})}$$"
   ]
  },
  {
   "cell_type": "markdown",
   "metadata": {},
   "source": [
    "# Cost Function"
   ]
  },
  {
   "cell_type": "code",
   "execution_count": 59,
   "metadata": {},
   "outputs": [],
   "source": [
    "def cost_function(x, y, w, b):\n",
    "    m = len(x)\n",
    "    sum = 0\n",
    "    for i in range(m):\n",
    "        sum += ((w * x[i] + b) - y[i]) ** 2\n",
    "    return (1 / (2 * m)) * sum"
   ]
  },
  {
   "cell_type": "markdown",
   "metadata": {},
   "source": [
    "# Compute Gradient"
   ]
  },
  {
   "cell_type": "code",
   "execution_count": 60,
   "metadata": {},
   "outputs": [],
   "source": [
    "def compute_gradient(x, y, w, b):\n",
    "    m = len(x)\n",
    "    d_dw = 0\n",
    "    d_db = 0\n",
    "    for i in range(m):\n",
    "        f_wb = w * x[i] + b\n",
    "        error = f_wb - y[i]\n",
    "        d_dw += error * x[i]\n",
    "        d_db += error\n",
    "    d_dw = d_dw / m\n",
    "    d_db = d_db / m\n",
    "    return d_dw, d_db"
   ]
  },
  {
   "cell_type": "markdown",
   "metadata": {},
   "source": [
    "# Gradient Descent"
   ]
  },
  {
   "cell_type": "code",
   "execution_count": 61,
   "metadata": {},
   "outputs": [],
   "source": [
    "def gradient_descent(\n",
    "    x, y, w_in, b_in, iterations, a, cost_function=None, compute_gradient=None\n",
    "):\n",
    "    cost_history = {}\n",
    "\n",
    "    w, b = w_in, b_in\n",
    "    for _ in range(iterations):\n",
    "        d_dw, d_db = compute_gradient(x, y, w, b)\n",
    "        w -= a * d_dw\n",
    "        b -= a * d_db\n",
    "\n",
    "        # reporting\n",
    "        if _ % 50 == 0:\n",
    "            cost = cost_function(x,y,w,b)\n",
    "            print(f\"iteration: {_}\\t|cost: {cost}\")\n",
    "            cost_history[_] = cost\n",
    "        \n",
    "    return w, b, cost_history"
   ]
  },
  {
   "cell_type": "markdown",
   "metadata": {},
   "source": [
    "# Running Gradient Descent"
   ]
  },
  {
   "cell_type": "code",
   "execution_count": 62,
   "metadata": {},
   "outputs": [
    {
     "name": "stdout",
     "output_type": "stream",
     "text": [
      "iteration: 0\t|cost: 0.4955047293638773\n",
      "iteration: 50\t|cost: 0.18481963332949436\n",
      "iteration: 100\t|cost: 0.07109884022933091\n",
      "iteration: 150\t|cost: 0.029473352079429617\n",
      "iteration: 200\t|cost: 0.014237077195280197\n",
      "iteration: 250\t|cost: 0.008660107827152468\n",
      "iteration: 300\t|cost: 0.00661875667212758\n",
      "iteration: 350\t|cost: 0.005871556129493013\n",
      "iteration: 400\t|cost: 0.00559805656547186\n",
      "iteration: 450\t|cost: 0.00549794687971599\n",
      "iteration: 500\t|cost: 0.005461303497054634\n",
      "iteration: 550\t|cost: 0.005447890833906933\n",
      "iteration: 600\t|cost: 0.005442981365412272\n",
      "iteration: 650\t|cost: 0.005441184341164765\n",
      "iteration: 700\t|cost: 0.005440526572172116\n",
      "iteration: 750\t|cost: 0.005440285807447724\n",
      "iteration: 800\t|cost: 0.0054401976797719565\n",
      "iteration: 850\t|cost: 0.005440165422192473\n",
      "iteration: 900\t|cost: 0.005440153614875125\n",
      "iteration: 950\t|cost: 0.005440149293015109\n"
     ]
    }
   ],
   "source": [
    "w_in = 1\n",
    "b_in = 1\n",
    "iterations = 1_000\n",
    "a = 1.0e-2\n",
    "w, b, cost_history = gradient_descent(\n",
    "    x_norm,\n",
    "    y_norm,\n",
    "    w_in,\n",
    "    b_in,\n",
    "    iterations,\n",
    "    a,\n",
    "    cost_function=cost_function,\n",
    "    compute_gradient=compute_gradient,\n",
    ")"
   ]
  },
  {
   "cell_type": "markdown",
   "metadata": {},
   "source": [
    "# Function"
   ]
  },
  {
   "cell_type": "code",
   "execution_count": 63,
   "metadata": {},
   "outputs": [],
   "source": [
    "def f(x):\n",
    "    return w*x+b"
   ]
  },
  {
   "cell_type": "markdown",
   "metadata": {},
   "source": [
    "# Prediction"
   ]
  },
  {
   "cell_type": "code",
   "execution_count": 64,
   "metadata": {},
   "outputs": [
    {
     "name": "stdout",
     "output_type": "stream",
     "text": [
      "\n",
      "(w,b) -> (0.9945452100512149,4.317124741059872e-05)\n",
      "\n",
      "(x:77) ==> prediction: 76.58002434519096\t data(x:77) ==> 79.78\n",
      "(x:21) ==> prediction: 20.88549258232292\t data(x:21) ==> 23.18\n",
      "(x:22) ==> prediction: 21.880037792374136\t data(x:22) ==> 25.61\n",
      "(x:20) ==> prediction: 19.890947372271707\t data(x:20) ==> 17.86\n",
      "(x:36) ==> prediction: 35.803670733091145\t data(x:36) ==> 41.85\n",
      "(x:15) ==> prediction: 14.918221322015635\t data(x:15) ==> 9.81\n",
      "(x:62) ==> prediction: 61.661846194422736\t data(x:62) ==> 58.87\n",
      "(x:95) ==> prediction: 94.48183812611282\t data(x:95) ==> 97.62\n",
      "(x:20) ==> prediction: 19.890947372271707\t data(x:20) ==> 18.4\n"
     ]
    }
   ],
   "source": [
    "print(f\"\\n(w,b) -> ({w},{b})\\n\")\n",
    "\n",
    "print(f\"(x:77) ==> prediction: {f(77)}\\t data(x:77) ==> {y_array[0]}\")\n",
    "print(f\"(x:21) ==> prediction: {f(21)}\\t data(x:21) ==> {y_array[1]}\")\n",
    "print(f\"(x:22) ==> prediction: {f(22)}\\t data(x:22) ==> {y_array[2]}\")\n",
    "print(f\"(x:20) ==> prediction: {f(20)}\\t data(x:20) ==> {y_array[3]}\")\n",
    "print(f\"(x:36) ==> prediction: {f(36)}\\t data(x:36) ==> {y_array[4]}\")\n",
    "print(f\"(x:15) ==> prediction: {f(15)}\\t data(x:15) ==> {y_array[5]}\")\n",
    "print(f\"(x:62) ==> prediction: {f(62)}\\t data(x:62) ==> {y_array[6]}\")\n",
    "print(f\"(x:95) ==> prediction: {f(95)}\\t data(x:95) ==> {y_array[7]}\")\n",
    "print(f\"(x:20) ==> prediction: {f(20)}\\t data(x:20) ==> {y_array[8]}\")"
   ]
  },
  {
   "cell_type": "markdown",
   "metadata": {},
   "source": [
    "### Plot Output"
   ]
  },
  {
   "cell_type": "code",
   "execution_count": 65,
   "metadata": {},
   "outputs": [
    {
     "data": {
      "text/plain": [
       "Text(0.5, 1.0, 'cost per iteration')"
      ]
     },
     "execution_count": 65,
     "metadata": {},
     "output_type": "execute_result"
    },
    {
     "data": {
      "image/png": "[encoded data removed]",
      "text/plain": [
       "<Figure size 1200x400 with 2 Axes>"
      ]
     },
     "metadata": {},
     "output_type": "display_data"
    }
   ],
   "source": [
    "fig, (ex1, ex2) = plt.subplots(1,2, figsize=(12,4))\n",
    "\n",
    "ex1.plot(x_norm,y_norm, 'o')\n",
    "y_hat = w * x_norm + b\n",
    "ex1.plot(x_norm, y_hat)\n",
    "ex1.set_xlabel(\"X\")\n",
    "ex1.set_ylabel(\"Y\")\n",
    "ex1.set_title(\"Model\")\n",
    "\n",
    "ex2.plot(list(cost_history.keys()), list(cost_history.values()))\n",
    "ex2.set_xlabel(\"iteration\")\n",
    "ex2.set_ylabel(\"cost\")\n",
    "ex2.set_title(\"cost per iteration\")"
   ]
  }
 ],
 "metadata": {
  "kernelspec": {
   "display_name": "base",
   "language": "python",
   "name": "python3"
  },
  "language_info": {
   "codemirror_mode": {
    "name": "ipython",
    "version": 3
   },
   "file_extension": ".py",
   "mimetype": "text/x-python",
   "name": "python",
   "nbconvert_exporter": "python",
   "pygments_lexer": "ipython3",
   "version": "3.11.7"
  }
 },
 "nbformat": 4,
 "nbformat_minor": 2
}
