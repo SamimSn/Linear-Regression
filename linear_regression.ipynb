{
 "cells": [
  {
   "cell_type": "markdown",
   "metadata": {},
   "source": [
    "# Imports"
   ]
  },
  {
   "cell_type": "code",
   "execution_count": 95,
   "metadata": {},
   "outputs": [],
   "source": [
    "import numpy as np\n",
    "import matplotlib.pyplot as plt\n",
    "import pandas as pd"
   ]
  },
  {
   "cell_type": "markdown",
   "metadata": {},
   "source": [
    "# Create Data Set"
   ]
  },
  {
   "cell_type": "code",
   "execution_count": 96,
   "metadata": {},
   "outputs": [
    {
     "name": "stdout",
     "output_type": "stream",
     "text": [
      "(300,)\n",
      "(300,)\n"
     ]
    }
   ],
   "source": [
    "data = pd.read_csv(\"practice_data.csv\")\n",
    "x = np.array(data[\"x\"])\n",
    "y = np.array(data[\"y\"])\n",
    "\n",
    "print(x.shape)\n",
    "print(y.shape)"
   ]
  },
  {
   "cell_type": "markdown",
   "metadata": {},
   "source": [
    "# Plot Data"
   ]
  },
  {
   "cell_type": "code",
   "execution_count": 97,
   "metadata": {},
   "outputs": [
    {
     "data": {
      "image/png": "[encoded data removed]",
      "text/plain": [
       "<Figure size 400x400 with 1 Axes>"
      ]
     },
     "metadata": {},
     "output_type": "display_data"
    }
   ],
   "source": [
    "fig, axs = plt.subplots(1, 1, figsize=(4, 4))\n",
    "\n",
    "axs.set_title(\"Data\")\n",
    "axs.set_xlabel(\"X\")\n",
    "axs.set_ylabel(\"Y\")\n",
    "axs.plot(x, y, 'o')\n",
    "\n",
    "plt.tight_layout()\n",
    "plt.show()"
   ]
  },
  {
   "cell_type": "markdown",
   "metadata": {},
   "source": [
    "# some rows of data"
   ]
  },
  {
   "cell_type": "code",
   "execution_count": 98,
   "metadata": {},
   "outputs": [
    {
     "data": {
      "text/html": [
       "<div>\n",
       "<style scoped>\n",
       "    .dataframe tbody tr th:only-of-type {\n",
       "        vertical-align: middle;\n",
       "    }\n",
       "\n",
       "    .dataframe tbody tr th {\n",
       "        vertical-align: top;\n",
       "    }\n",
       "\n",
       "    .dataframe thead th {\n",
       "        text-align: right;\n",
       "    }\n",
       "</style>\n",
       "<table border=\"1\" class=\"dataframe\">\n",
       "  <thead>\n",
       "    <tr style=\"text-align: right;\">\n",
       "      <th></th>\n",
       "      <th>x</th>\n",
       "      <th>y</th>\n",
       "    </tr>\n",
       "  </thead>\n",
       "  <tbody>\n",
       "    <tr>\n",
       "      <th>0</th>\n",
       "      <td>77</td>\n",
       "      <td>79.775152</td>\n",
       "    </tr>\n",
       "    <tr>\n",
       "      <th>1</th>\n",
       "      <td>21</td>\n",
       "      <td>23.177279</td>\n",
       "    </tr>\n",
       "    <tr>\n",
       "      <th>2</th>\n",
       "      <td>22</td>\n",
       "      <td>25.609262</td>\n",
       "    </tr>\n",
       "    <tr>\n",
       "      <th>3</th>\n",
       "      <td>20</td>\n",
       "      <td>17.857388</td>\n",
       "    </tr>\n",
       "    <tr>\n",
       "      <th>4</th>\n",
       "      <td>36</td>\n",
       "      <td>41.849864</td>\n",
       "    </tr>\n",
       "    <tr>\n",
       "      <th>5</th>\n",
       "      <td>15</td>\n",
       "      <td>9.805235</td>\n",
       "    </tr>\n",
       "    <tr>\n",
       "      <th>6</th>\n",
       "      <td>62</td>\n",
       "      <td>58.874659</td>\n",
       "    </tr>\n",
       "    <tr>\n",
       "      <th>7</th>\n",
       "      <td>95</td>\n",
       "      <td>97.617937</td>\n",
       "    </tr>\n",
       "    <tr>\n",
       "      <th>8</th>\n",
       "      <td>20</td>\n",
       "      <td>18.395127</td>\n",
       "    </tr>\n",
       "    <tr>\n",
       "      <th>9</th>\n",
       "      <td>5</td>\n",
       "      <td>8.746748</td>\n",
       "    </tr>\n",
       "  </tbody>\n",
       "</table>\n",
       "</div>"
      ],
      "text/plain": [
       "    x          y\n",
       "0  77  79.775152\n",
       "1  21  23.177279\n",
       "2  22  25.609262\n",
       "3  20  17.857388\n",
       "4  36  41.849864\n",
       "5  15   9.805235\n",
       "6  62  58.874659\n",
       "7  95  97.617937\n",
       "8  20  18.395127\n",
       "9   5   8.746748"
      ]
     },
     "execution_count": 98,
     "metadata": {},
     "output_type": "execute_result"
    }
   ],
   "source": [
    "data.head(10)"
   ]
  },
  {
   "cell_type": "markdown",
   "metadata": {},
   "source": [
    "# Normalize Data"
   ]
  },
  {
   "cell_type": "code",
   "execution_count": 99,
   "metadata": {},
   "outputs": [],
   "source": [
    "x = np.array([(i / max(x)) for i in x])\n",
    "y = np.array([(i / max(y)) for i in y])"
   ]
  },
  {
   "cell_type": "markdown",
   "metadata": {},
   "source": [
    "# Regression Algorithm (manual)"
   ]
  },
  {
   "cell_type": "markdown",
   "metadata": {},
   "source": [
    "\n",
    "$${\\color{orange}f_{w,b}(x) = wx +b}$$\n",
    "$${\\color{orange}J_{w,b}(x) = (1/2m)Σ_{i=1}^{m} (f_{w,b}(x^{ith})-y^{ith})^2}$$\n",
    "$${\\color{orange}repeat:}\\\\$$\n",
    "$${\\color{orange}w = w - alpha\\ d/dw(J)}$$\n",
    "$${\\color{orange}b = b - alpha\\ d/db(J)}$$\n",
    "$${\\color{orange}d/dw(J) = (1/m)Σ_{i=1}^{m} (f_{w,b}(x^{ith})-y^{ith})(x^{ith})}$$\n",
    "$${\\color{orange}d/db(J) = (1/m)Σ_{i=1}^{m} (f_{w,b}(x^{ith})-y^{ith})}$$"
   ]
  },
  {
   "cell_type": "markdown",
   "metadata": {},
   "source": [
    "# F"
   ]
  },
  {
   "cell_type": "code",
   "execution_count": 100,
   "metadata": {},
   "outputs": [],
   "source": [
    "def F(x, w, b):\n",
    "    return x * w + b"
   ]
  },
  {
   "cell_type": "markdown",
   "metadata": {},
   "source": [
    "# Cost Function"
   ]
  },
  {
   "cell_type": "code",
   "execution_count": 101,
   "metadata": {},
   "outputs": [],
   "source": [
    "def cost(x, y, w, b):\n",
    "    m = x.shape[0]\n",
    "    return np.sum((F(x, w, b) - y) ** 2) / (2*m)   "
   ]
  },
  {
   "cell_type": "markdown",
   "metadata": {},
   "source": [
    "# Compute Gradient"
   ]
  },
  {
   "cell_type": "code",
   "execution_count": 102,
   "metadata": {},
   "outputs": [],
   "source": [
    "def gradient(x, y, w, b):\n",
    "    m = x.shape[0]\n",
    "\n",
    "    f = F(x, w, b) - y\n",
    "    d_dw = np.sum(f * x) / m\n",
    "    d_db = np.sum(f) / m\n",
    "\n",
    "    return d_dw, d_db"
   ]
  },
  {
   "cell_type": "markdown",
   "metadata": {},
   "source": [
    "# Gradient Descent"
   ]
  },
  {
   "cell_type": "code",
   "execution_count": 103,
   "metadata": {},
   "outputs": [],
   "source": [
    "def gradient_descent(\n",
    "    x, y, w_in, b_in, iterations, a, cost_function=None, compute_gradient=None\n",
    "):\n",
    "    cost_history = {}\n",
    "\n",
    "    w, b = w_in, b_in\n",
    "    for _ in range(iterations+1):\n",
    "        d_dw, d_db = compute_gradient(x, y, w, b)\n",
    "        w -= a * d_dw\n",
    "        b -= a * d_db\n",
    "\n",
    "        # reporting\n",
    "        cost = cost_function(x,y,w,b)\n",
    "        if _ % 100 == 0:            \n",
    "            print(f\"iteration: {_}\\t|cost: {cost}\")\n",
    "        cost_history[_] = cost\n",
    "        \n",
    "    return w, b, cost_history"
   ]
  },
  {
   "cell_type": "markdown",
   "metadata": {},
   "source": [
    "# Running Gradient Descent"
   ]
  },
  {
   "cell_type": "code",
   "execution_count": 104,
   "metadata": {},
   "outputs": [
    {
     "name": "stdout",
     "output_type": "stream",
     "text": [
      "iteration: 0\t|cost: 0.030464945707436127\n",
      "iteration: 100\t|cost: 0.0004110086366685281\n",
      "iteration: 200\t|cost: 0.00041096802361729914\n",
      "iteration: 300\t|cost: 0.0004109680235344338\n",
      "iteration: 400\t|cost: 0.00041096802353443357\n",
      "iteration: 500\t|cost: 0.0004109680235344336\n",
      "iteration: 600\t|cost: 0.0004109680235344336\n",
      "iteration: 700\t|cost: 0.0004109680235344337\n",
      "iteration: 800\t|cost: 0.00041096802353443357\n",
      "iteration: 900\t|cost: 0.0004109680235344336\n",
      "iteration: 1000\t|cost: 0.0004109680235344337\n",
      "\n",
      "Optimum Result -->\n",
      "w: 0.9606190962625469\n",
      "b: -0.004373546143291025\n"
     ]
    }
   ],
   "source": [
    "w_in = 0\n",
    "b_in = 0\n",
    "iterations = 1_000\n",
    "alpha = 1\n",
    "w, b, cost_history = gradient_descent(\n",
    "    x,\n",
    "    y,\n",
    "    w_in,\n",
    "    b_in,\n",
    "    iterations,\n",
    "    alpha,\n",
    "    cost_function=cost,\n",
    "    compute_gradient=gradient,\n",
    ")\n",
    "\n",
    "print(f\"\\nOptimum Result -->\\nw: {w}\\nb: {b}\")"
   ]
  },
  {
   "cell_type": "markdown",
   "metadata": {},
   "source": [
    "### Plot Output"
   ]
  },
  {
   "cell_type": "code",
   "execution_count": 105,
   "metadata": {},
   "outputs": [
    {
     "data": {
      "text/plain": [
       "Text(0.5, 1.0, 'cost per iteration')"
      ]
     },
     "execution_count": 105,
     "metadata": {},
     "output_type": "execute_result"
    },
    {
     "data": {
      "image/png": "[encoded data removed]",
      "text/plain": [
       "<Figure size 1200x400 with 2 Axes>"
      ]
     },
     "metadata": {},
     "output_type": "display_data"
    }
   ],
   "source": [
    "fig, (ex1, ex2) = plt.subplots(1,2, figsize=(12,4))\n",
    "\n",
    "ex1.plot(x, y, 'o')\n",
    "y_hat = w * x + b\n",
    "ex1.plot(x, y_hat)\n",
    "ex1.set_xlabel(\"X\")\n",
    "ex1.set_ylabel(\"Y\")\n",
    "ex1.set_title(\"Model\")\n",
    "\n",
    "ex2.plot(list(cost_history.keys()), list(cost_history.values()))\n",
    "ex2.set_xlabel(\"iteration\")\n",
    "ex2.set_ylabel(\"cost\")\n",
    "ex2.set_title(\"cost per iteration\")"
   ]
  },
  {
   "cell_type": "markdown",
   "metadata": {},
   "source": [
    "# Accuracy"
   ]
  },
  {
   "cell_type": "code",
   "execution_count": 106,
   "metadata": {},
   "outputs": [
    {
     "name": "stdout",
     "output_type": "stream",
     "text": [
      "0.77 -> model -> 0.74\t|\tactual output -> 0.7555049130573185\n",
      "0.89 -> model -> 0.85\t|\tactual output -> 0.8724070435842164\n",
      "0.91 -> model -> 0.87\t|\tactual output -> 0.9002723205759158\n",
      "0.13 -> model -> 0.12\t|\tactual output -> 0.13311378135644245\n",
      "0.68 -> model -> 0.65\t|\tactual output -> 0.6664329030167697\n",
      "0.02 -> model -> 0.01\t|\tactual output -> -0.015464909870519112\n",
      "0.64 -> model -> 0.61\t|\tactual output -> 0.5950096620868067\n",
      "0.71 -> model -> 0.68\t|\tactual output -> 0.666181200417125\n",
      "0.42 -> model -> 0.4\t|\tactual output -> 0.369187384962403\n",
      "0.17 -> model -> 0.16\t|\tactual output -> 0.14074567089525267\n",
      "0.78 -> model -> 0.74\t|\tactual output -> 0.7424516128910059\n",
      "0.07 -> model -> 0.06\t|\tactual output -> 0.08790167850805702\n",
      "0.92 -> model -> 0.88\t|\tactual output -> 0.90343915361829\n",
      "0.16 -> model -> 0.15\t|\tactual output -> 0.1593721390633059\n",
      "0.19 -> model -> 0.18\t|\tactual output -> 0.20291699015087225\n",
      "\n",
      "\n",
      "***********************\n",
      "*** Accuracy 91.63% ***\n",
      "***********************\n"
     ]
    }
   ],
   "source": [
    "def accuracy(X, Y):\n",
    "    sum = 0\n",
    "    length = len(X)\n",
    "    for i in range(length):\n",
    "        model_output = round(F(X[i], w, b), 2)\n",
    "        actual_output = Y[i]\n",
    "        if i % 20 == 0:\n",
    "            print(f\"{X[i]} -> model -> {model_output}\\t|\\tactual output -> {actual_output}\")\n",
    "        sum += (1 - (abs(model_output - actual_output) / actual_output)) * 100\n",
    "    return sum/length\n",
    "\n",
    "accuracy_final = accuracy(x, y)\n",
    "print(f\"\\n\\n***********************\\n*** Accuracy {round(accuracy_final, 2)}% ***\\n***********************\")"
   ]
  }
 ],
 "metadata": {
  "kernelspec": {
   "display_name": "base",
   "language": "python",
   "name": "python3"
  },
  "language_info": {
   "codemirror_mode": {
    "name": "ipython",
    "version": 3
   },
   "file_extension": ".py",
   "mimetype": "text/x-python",
   "name": "python",
   "nbconvert_exporter": "python",
   "pygments_lexer": "ipython3",
   "version": "3.11.7"
  }
 },
 "nbformat": 4,
 "nbformat_minor": 2
}
